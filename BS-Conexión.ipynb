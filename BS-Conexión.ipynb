{
 "cells": [
  {
   "cell_type": "markdown",
   "metadata": {
    "id": "3nH-FsHTMue6"
   },
   "source": [
    "## Conexión a BS\n",
    "\n",
    "https://jupyter.org/install\n",
    "\n",
    "jupyter notebook\n",
    "\n",
    "Ejecutar el sig dentro de cmd\n",
    "\n",
    "jupyter notebook  --NotebookApp.allow_origin='https://colab.research.google.com' --port=8888 --NotebookApp.port_retries=0\n"
   ]
  },
  {
   "cell_type": "code",
   "execution_count": null,
   "metadata": {
    "id": "QoD12_exMzga"
   },
   "outputs": [],
   "source": [
    "import numpy as np\n",
    "import pandas as pd\n",
    "import oracledb as db\n",
    "\n",
    "import os \n",
    "import re\n",
    "import json\n",
    "import time\n",
    "import statistics\n",
    "import iteration_utilities\n",
    "\n",
    "from time import time\n",
    "from skimage.transform import resize\n",
    "from more_itertools import sort_together \n",
    "from iteration_utilities import duplicates\n",
    "from iteration_utilities import unique_everseen\n"
   ]
  },
  {
   "cell_type": "code",
   "execution_count": null,
   "metadata": {
    "colab": {
     "base_uri": "https://localhost:8080/"
    },
    "executionInfo": {
     "elapsed": 17,
     "status": "ok",
     "timestamp": 1658764216245,
     "user": {
      "displayName": "Elías González Aguilar",
      "userId": "10539955484280245685"
     },
     "user_tz": 300
    },
    "id": "8bfn-CqISizF",
    "outputId": "98a46813-28a6-4247-90da-fd78c5d7d4a1"
   },
   "outputs": [
    {
     "name": "stdout",
     "output_type": "stream",
     "text": [
      "['adrci.exe', 'adrci.sym', 'BASIC_LICENSE', 'BASIC_README', 'genezi.exe', 'genezi.sym', 'network', 'oci.dll', 'oci.sym', 'ocijdbc21.dll', 'ocijdbc21.sym', 'ociw32.dll', 'ociw32.sym', 'ojdbc8.jar', 'oramysql.dll', 'oramysql.sym', 'orannzsbb.dll', 'orannzsbb.sym', 'oraocci21.dll', 'oraocci21.sym', 'oraocci21d.dll', 'oraocci21d.sym', 'oraociei.dll', 'oraociei.sym', 'orasql.dll', 'orasql.sym', 'ucp.jar', 'uidrvci.exe', 'uidrvci.sym', 'xstreams.jar']\n"
     ]
    }
   ],
   "source": [
    "dic=os.listdir(os.chdir(r'C:\\Users\\Elías Gonzalez\\instantclient_21_6'))\n",
    "print(dic)"
   ]
  },
  {
   "cell_type": "markdown",
   "metadata": {
    "id": "gKzy0UyRM290"
   },
   "source": [
    "### Pasos para conectar BD"
   ]
  },
  {
   "cell_type": "markdown",
   "metadata": {
    "id": "xrEDD0dRRcRD"
   },
   "source": [
    "1. ejecutamos el cmd\n",
    "2. Inicamos el VPN(e8uZ4Uq@wv)\n",
    "2. conectamos con BD con db\n"
   ]
  },
  {
   "cell_type": "code",
   "execution_count": null,
   "metadata": {
    "id": "wr_XyWK9C6EE"
   },
   "outputs": [],
   "source": [
    "db.init_oracle_client()\n",
    "\n",
    "sdn = db.makedsn('192.168.10.162','1521','acloudpro')\n",
    "con = db.connect(user=\"PXC50001_151221\", password=\"promad\",dsn=sdn,encoding=\"UTF-8\")\n",
    "cur = con.cursor()"
   ]
  },
  {
   "cell_type": "markdown",
   "metadata": {
    "id": "yfD4nsp0M3Hr"
   },
   "source": [
    "### Extración de información \n",
    "Se usarán distintos metodos para extraer la información "
   ]
  },
  {
   "cell_type": "code",
   "execution_count": null,
   "metadata": {
    "id": "dldGTCD3AlFb"
   },
   "outputs": [],
   "source": [
    "def imp_sql(lis,tab):\n",
    "  df=pd.DataFrame()\n",
    "  t_i=time()\n",
    "  df = pd.read_sql_query(\"SELECT\"+\" \"+str(lis)+\" \"\"from\"+\" \"+str(tab), con)\n",
    "  t_f=time()\n",
    "\n",
    "  f=len(df.columns.values.tolist())\n",
    "  c=len(df.index)\n",
    "  print('Tiempo de ejecución(min):',(t_f-t_i)/60,'Para filas:',f,'Columnas:',c,'Total de datos:',f*c,)\n",
    "  \n",
    "  return df"
   ]
  },
  {
   "cell_type": "code",
   "execution_count": null,
   "metadata": {
    "id": "-ZNfajd42F29"
   },
   "outputs": [],
   "source": [
    "dic=os.listdir(os.chdir(r'C:\\Users\\Elías Gonzalez\\SQL_Data'))"
   ]
  },
  {
   "cell_type": "markdown",
   "metadata": {
    "id": "qq-ceGG-Msol"
   },
   "source": [
    "### CAT"
   ]
  },
  {
   "cell_type": "code",
   "execution_count": null,
   "metadata": {
    "colab": {
     "base_uri": "https://localhost:8080/"
    },
    "executionInfo": {
     "elapsed": 363,
     "status": "ok",
     "timestamp": 1658764316941,
     "user": {
      "displayName": "Elías González Aguilar",
      "userId": "10539955484280245685"
     },
     "user_tz": 300
    },
    "id": "qqjKAx4S3sdi",
    "outputId": "4bef1074-507f-4262-ed93-994c65a53602"
   },
   "outputs": [
    {
     "name": "stdout",
     "output_type": "stream",
     "text": [
      "Tiempo de ejecución(min): 0.0047703782717386884 Para filas: 3 Columnas: 3421 Total de datos: 10263\n"
     ]
    }
   ],
   "source": [
    "tab=\"CARTO_SECTOR\"\n",
    "lis=\"ID_SECTOR,X,Y\"\n",
    "df_CARTO_SECTOR=imp_sql(lis,tab)\n",
    "df_CARTO_SECTOR.to_csv('CARTO_SECTOR')"
   ]
  },
  {
   "cell_type": "code",
   "execution_count": null,
   "metadata": {
    "colab": {
     "base_uri": "https://localhost:8080/"
    },
    "executionInfo": {
     "elapsed": 45,
     "status": "ok",
     "timestamp": 1658764451096,
     "user": {
      "displayName": "Elías González Aguilar",
      "userId": "10539955484280245685"
     },
     "user_tz": 300
    },
    "id": "AH2isZdB3sf2",
    "outputId": "6697c6e4-4608-4294-941c-8fa96e230752"
   },
   "outputs": [
    {
     "name": "stdout",
     "output_type": "stream",
     "text": [
      "Tiempo de ejecución(min): 0.00033246676127115886 Para filas: 2 Columnas: 6 Total de datos: 12\n"
     ]
    }
   ],
   "source": [
    "tab=\"CAT_ANTIGUEDAD_VEHICULO\"\n",
    "lis=\"ID_ANTIGUEDAD_VEHICULO,NOMBRE_ANTIGUEDAD_VEHICULO\"\n",
    "df_CAT_ANTIGUEDAD_VEHICULO=imp_sql(lis,tab)\n",
    "df_CAT_ANTIGUEDAD_VEHICULO.to_csv('CAT_ANTIGUEDAD_VEHICULO')"
   ]
  },
  {
   "cell_type": "code",
   "execution_count": null,
   "metadata": {
    "colab": {
     "base_uri": "https://localhost:8080/"
    },
    "executionInfo": {
     "elapsed": 32,
     "status": "ok",
     "timestamp": 1658764536968,
     "user": {
      "displayName": "Elías González Aguilar",
      "userId": "10539955484280245685"
     },
     "user_tz": 300
    },
    "id": "0IvkPgAO3sie",
    "outputId": "bfae4dbd-882a-45d2-881d-9ca09339fb85"
   },
   "outputs": [
    {
     "name": "stdout",
     "output_type": "stream",
     "text": [
      "Tiempo de ejecución(min): 0.00043245951334635414 Para filas: 2 Columnas: 4 Total de datos: 8\n"
     ]
    }
   ],
   "source": [
    "tab=\"CAT_CALIBRE_MUNICION\"\n",
    "lis=\"ID_CALIBRE_MUNICION,NOMBRE_CALIBRE_MUNICION\"\n",
    "df_CAT_CALIBRE_MUNICION=imp_sql(lis,tab)\n",
    "df_CAT_CALIBRE_MUNICION.to_csv('CAT_CALIBRE_MUNICION')"
   ]
  },
  {
   "cell_type": "code",
   "execution_count": null,
   "metadata": {
    "colab": {
     "base_uri": "https://localhost:8080/"
    },
    "executionInfo": {
     "elapsed": 62,
     "status": "ok",
     "timestamp": 1658764611216,
     "user": {
      "displayName": "Elías González Aguilar",
      "userId": "10539955484280245685"
     },
     "user_tz": 300
    },
    "id": "GUBkeBIijfon",
    "outputId": "ee659c2c-3c97-474b-fce3-0b506307cea3"
   },
   "outputs": [
    {
     "name": "stdout",
     "output_type": "stream",
     "text": [
      "Tiempo de ejecución(min): 0.0005162119865417481 Para filas: 2 Columnas: 4 Total de datos: 8\n"
     ]
    }
   ],
   "source": [
    "tab=\"CAT_CATEGORIA_ARMA\"\n",
    "lis=\"ID_CATEGORIA_ARMA,NOMBRE_CATEGORIA\"\n",
    "df_CAT_CATEGORIA_ARMA=imp_sql(lis,tab)\n",
    "df_CAT_CATEGORIA_ARMA.to_csv('CAT_CATEGORIA_ARMA')"
   ]
  },
  {
   "cell_type": "code",
   "execution_count": null,
   "metadata": {
    "colab": {
     "base_uri": "https://localhost:8080/"
    },
    "executionInfo": {
     "elapsed": 39,
     "status": "ok",
     "timestamp": 1658764671302,
     "user": {
      "displayName": "Elías González Aguilar",
      "userId": "10539955484280245685"
     },
     "user_tz": 300
    },
    "id": "M0HzeBRlkntn",
    "outputId": "85be1310-0208-4e52-cce6-a94d43c74725"
   },
   "outputs": [
    {
     "name": "stdout",
     "output_type": "stream",
     "text": [
      "Tiempo de ejecución(min): 0.00033241907755533854 Para filas: 2 Columnas: 8 Total de datos: 16\n"
     ]
    }
   ],
   "source": [
    "tab=\"CAT_CATEGORIA_OBJETO\"\n",
    "lis=\"ID_CATEGORIA_OBJETO,NOMBRE_CATEGORIA\"\n",
    "df_CAT_CATEGORIA_OBJETO=imp_sql(lis,tab)\n",
    "df_CAT_CATEGORIA_OBJETO.to_csv('CAT_CATEGORIA_OBJETO')"
   ]
  },
  {
   "cell_type": "code",
   "execution_count": null,
   "metadata": {
    "colab": {
     "base_uri": "https://localhost:8080/"
    },
    "executionInfo": {
     "elapsed": 51,
     "status": "ok",
     "timestamp": 1658764736832,
     "user": {
      "displayName": "Elías González Aguilar",
      "userId": "10539955484280245685"
     },
     "user_tz": 300
    },
    "id": "5nef6X3OE3kZ",
    "outputId": "63e61eab-2747-477b-b517-e24a51107d75"
   },
   "outputs": [
    {
     "name": "stdout",
     "output_type": "stream",
     "text": [
      "Tiempo de ejecución(min): 0.00048209428787231444 Para filas: 2 Columnas: 6 Total de datos: 12\n"
     ]
    }
   ],
   "source": [
    "tab=\"CAT_CLASIFICACION_MOTIVO\"\n",
    "lis=\"ID_CLASIFICACION,NOMBRE_CLASIFICACION\"\n",
    "df_CAT_CLASIFICACION_MOTIVO=imp_sql(lis,tab)\n",
    "df_CAT_CLASIFICACION_MOTIVO.to_csv('CAT_CLASIFICACION_MOTIVO')"
   ]
  },
  {
   "cell_type": "code",
   "execution_count": null,
   "metadata": {
    "colab": {
     "base_uri": "https://localhost:8080/"
    },
    "executionInfo": {
     "elapsed": 230,
     "status": "ok",
     "timestamp": 1658764935138,
     "user": {
      "displayName": "Elías González Aguilar",
      "userId": "10539955484280245685"
     },
     "user_tz": 300
    },
    "id": "xBEtGoBcE3m0",
    "outputId": "9f089c38-de48-46b4-9246-e60196ef380e"
   },
   "outputs": [
    {
     "name": "stdout",
     "output_type": "stream",
     "text": [
      "Tiempo de ejecución(min): 0.0029976367950439453 Para filas: 3 Columnas: 2100 Total de datos: 6300\n"
     ]
    }
   ],
   "source": [
    "tab=\"CAT_COLONIA\"\n",
    "lis=\"ID_COLONIA,NOMBRE_COLONIA,CODIGO_POSTAL\"\n",
    "df_CAT_COLONIA=imp_sql(lis,tab)\n",
    "df_CAT_COLONIA.to_csv('CAT_COLONIA')"
   ]
  },
  {
   "cell_type": "code",
   "execution_count": null,
   "metadata": {
    "colab": {
     "base_uri": "https://localhost:8080/"
    },
    "executionInfo": {
     "elapsed": 25,
     "status": "ok",
     "timestamp": 1658765085277,
     "user": {
      "displayName": "Elías González Aguilar",
      "userId": "10539955484280245685"
     },
     "user_tz": 300
    },
    "id": "5UvtGIqKE3pf",
    "outputId": "d5da200e-d0de-4fb0-c543-e3decb1599c8"
   },
   "outputs": [
    {
     "name": "stdout",
     "output_type": "stream",
     "text": [
      "Tiempo de ejecución(min): 0.00021613041559855143 Para filas: 2 Columnas: 37 Total de datos: 74\n"
     ]
    }
   ],
   "source": [
    "tab=\"CAT_COLOR_VEHICULO\"\n",
    "lis=\"ID_COLOR,NOMBRE_COLOR\"\n",
    "df_CAT_COLOR_VEHICULO=imp_sql(lis,tab)\n",
    "df_CAT_COLOR_VEHICULO.to_csv('CAT_COLOR_VEHICULO')"
   ]
  },
  {
   "cell_type": "code",
   "execution_count": null,
   "metadata": {
    "colab": {
     "base_uri": "https://localhost:8080/"
    },
    "executionInfo": {
     "elapsed": 34,
     "status": "ok",
     "timestamp": 1658765083263,
     "user": {
      "displayName": "Elías González Aguilar",
      "userId": "10539955484280245685"
     },
     "user_tz": 300
    },
    "id": "0uLC-DM9E3sN",
    "outputId": "10bd83ea-45bd-437b-a83e-0d14b5a1bb65"
   },
   "outputs": [
    {
     "name": "stdout",
     "output_type": "stream",
     "text": [
      "Tiempo de ejecución(min): 0.00018282334009806316 Para filas: 2 Columnas: 16 Total de datos: 32\n"
     ]
    }
   ],
   "source": [
    "tab=\"CAT_ESCOLARIDAD\"\n",
    "lis=\"ID_ESCOLARIDAD,NOMBRE_ESCOLARIDAD\"\n",
    "df_CAT_ESCOLARIDAD=imp_sql(lis,tab)\n",
    "df_CAT_ESCOLARIDAD.to_csv('CAT_ESCOLARIDAD')"
   ]
  },
  {
   "cell_type": "code",
   "execution_count": null,
   "metadata": {
    "colab": {
     "base_uri": "https://localhost:8080/"
    },
    "executionInfo": {
     "elapsed": 46,
     "status": "ok",
     "timestamp": 1658765252621,
     "user": {
      "displayName": "Elías González Aguilar",
      "userId": "10539955484280245685"
     },
     "user_tz": 300
    },
    "id": "CXJ7Xc5qE3ui",
    "outputId": "cc1cd577-1777-4b80-8077-bf276f36422a"
   },
   "outputs": [
    {
     "name": "stdout",
     "output_type": "stream",
     "text": [
      "Tiempo de ejecución(min): 0.00038966337839762367 Para filas: 2 Columnas: 7 Total de datos: 14\n"
     ]
    }
   ],
   "source": [
    "tab=\"CAT_ESTADO_CIVIL\"\n",
    "lis=\"ID_ESTADO_CIVIL,NOMBRE_ESTADO_CIVIL\"\n",
    "df_CAT_ESTADO_CIVIL=imp_sql(lis,tab)\n",
    "df_CAT_ESTADO_CIVIL.to_csv('CAT_ESTADO_CIVIL')"
   ]
  },
  {
   "cell_type": "code",
   "execution_count": null,
   "metadata": {
    "colab": {
     "base_uri": "https://localhost:8080/"
    },
    "executionInfo": {
     "elapsed": 49,
     "status": "ok",
     "timestamp": 1658765488348,
     "user": {
      "displayName": "Elías González Aguilar",
      "userId": "10539955484280245685"
     },
     "user_tz": 300
    },
    "id": "tIw35I96E3w6",
    "outputId": "2989a7d0-4c8b-4023-c247-00f3509418cb"
   },
   "outputs": [
    {
     "name": "stdout",
     "output_type": "stream",
     "text": [
      "Tiempo de ejecución(min): 0.00030019680658976234 Para filas: 2 Columnas: 8 Total de datos: 16\n"
     ]
    }
   ],
   "source": [
    "tab=\"CAT_ESTADO_FISICO\"\n",
    "lis=\"ID_ESTADO_FISICO,NOMBRE_ESTADO\"\n",
    "df_CAT_ESTADO_FISICO=imp_sql(lis,tab)\n",
    "df_CAT_ESTADO_FISICO.to_csv('CAT_ESTADO_FISICO')"
   ]
  },
  {
   "cell_type": "code",
   "execution_count": null,
   "metadata": {
    "colab": {
     "base_uri": "https://localhost:8080/"
    },
    "executionInfo": {
     "elapsed": 30,
     "status": "ok",
     "timestamp": 1658765550154,
     "user": {
      "displayName": "Elías González Aguilar",
      "userId": "10539955484280245685"
     },
     "user_tz": 300
    },
    "id": "wp06Xeg6HXej",
    "outputId": "dd34ddd4-41d0-49f3-fa3a-35a7569e9cbe"
   },
   "outputs": [
    {
     "name": "stdout",
     "output_type": "stream",
     "text": [
      "Tiempo de ejecución(min): 0.0003656784693400065 Para filas: 2 Columnas: 10 Total de datos: 20\n"
     ]
    }
   ],
   "source": [
    "tab=\"CAT_ESTADO_FISICO_VEHICULO\"\n",
    "lis=\"ID_ESTADO_FISICO_VEHICULO,NOMBRE_ESTADO_VEHICULO\"\n",
    "df_CAT_ESTADO_FISICO_VEHICULO=imp_sql(lis,tab)\n",
    "df_CAT_ESTADO_FISICO_VEHICULO.to_csv('CAT_ESTADO_FISICO_VEHICULO')"
   ]
  },
  {
   "cell_type": "code",
   "execution_count": null,
   "metadata": {
    "colab": {
     "base_uri": "https://localhost:8080/"
    },
    "executionInfo": {
     "elapsed": 29,
     "status": "ok",
     "timestamp": 1658765616571,
     "user": {
      "displayName": "Elías González Aguilar",
      "userId": "10539955484280245685"
     },
     "user_tz": 300
    },
    "id": "80hikAjxHYZ_",
    "outputId": "967e8926-8035-4d71-e56f-68853b9a0a36"
   },
   "outputs": [
    {
     "name": "stdout",
     "output_type": "stream",
     "text": [
      "Tiempo de ejecución(min): 0.00031644503275553385 Para filas: 2 Columnas: 11 Total de datos: 22\n"
     ]
    }
   ],
   "source": [
    "tab=\"CAT_ESTATUS_RASTREO\"\n",
    "lis=\"ID_ESTATUS_RASTREO,NOMBRE_ESTATUS_RASTREO\"\n",
    "df_CAT_ESTATUS_RASTREO=imp_sql(lis,tab)\n",
    "df_CAT_ESTATUS_RASTREO.to_csv('CAT_ESTATUS_RASTREO')"
   ]
  },
  {
   "cell_type": "code",
   "execution_count": null,
   "metadata": {
    "colab": {
     "base_uri": "https://localhost:8080/"
    },
    "executionInfo": {
     "elapsed": 46,
     "status": "ok",
     "timestamp": 1658765724449,
     "user": {
      "displayName": "Elías González Aguilar",
      "userId": "10539955484280245685"
     },
     "user_tz": 300
    },
    "id": "qa-3bU1BHYc3",
    "outputId": "ba07168c-1a30-427c-9c4f-473d241b747e"
   },
   "outputs": [
    {
     "name": "stdout",
     "output_type": "stream",
     "text": [
      "Tiempo de ejecución(min): 0.000332486629486084 Para filas: 2 Columnas: 51 Total de datos: 102\n"
     ]
    }
   ],
   "source": [
    "tab=\"CAT_MARCA_VEHICULO\"\n",
    "lis=\"ID_MARCA,MARCA\"\n",
    "df_CAT_MARCA_VEHICULO=imp_sql(lis,tab)\n",
    "df_CAT_MARCA_VEHICULO.to_csv('CAT_MARCA_VEHICULO')"
   ]
  },
  {
   "cell_type": "code",
   "execution_count": null,
   "metadata": {
    "colab": {
     "base_uri": "https://localhost:8080/"
    },
    "executionInfo": {
     "elapsed": 33,
     "status": "ok",
     "timestamp": 1658765799109,
     "user": {
      "displayName": "Elías González Aguilar",
      "userId": "10539955484280245685"
     },
     "user_tz": 300
    },
    "id": "4NZJ1QT0HYfi",
    "outputId": "072c88f7-0b8b-45f5-c457-c04aa5cfd9f2"
   },
   "outputs": [
    {
     "name": "stdout",
     "output_type": "stream",
     "text": [
      "Tiempo de ejecución(min): 0.0002991517384847005 Para filas: 2 Columnas: 4 Total de datos: 8\n"
     ]
    }
   ],
   "source": [
    "tab=\"CAT_MODO_FUGA\"\n",
    "lis=\"ID_MODO_FUGA,NOMBRE_MODO_FUGA\"\n",
    "df_CAT_MODO_FUGA=imp_sql(lis,tab)\n",
    "df_CAT_MODO_FUGA.to_csv('CAT_MODO_FUGA')"
   ]
  },
  {
   "cell_type": "code",
   "execution_count": null,
   "metadata": {
    "colab": {
     "base_uri": "https://localhost:8080/"
    },
    "executionInfo": {
     "elapsed": 126,
     "status": "ok",
     "timestamp": 1658765871688,
     "user": {
      "displayName": "Elías González Aguilar",
      "userId": "10539955484280245685"
     },
     "user_tz": 300
    },
    "id": "7aVNU3OoHYh_",
    "outputId": "777b6bcd-7cd4-467b-e697-2114606b280d"
   },
   "outputs": [
    {
     "name": "stdout",
     "output_type": "stream",
     "text": [
      "Tiempo de ejecución(min): 0.0009679317474365235 Para filas: 3 Columnas: 454 Total de datos: 1362\n"
     ]
    }
   ],
   "source": [
    "tab=\"CAT_MOTIVO\"\n",
    "lis=\"ID_MOTIVO,NOMBRE_MOTIVO,ID_CLASIFICACION\"\n",
    "df_CAT_MOTIVO=imp_sql(lis,tab)\n",
    "df_CAT_MOTIVO.to_csv('CAT_MOTIVO')"
   ]
  },
  {
   "cell_type": "code",
   "execution_count": null,
   "metadata": {
    "colab": {
     "base_uri": "https://localhost:8080/"
    },
    "executionInfo": {
     "elapsed": 45,
     "status": "ok",
     "timestamp": 1658765926861,
     "user": {
      "displayName": "Elías González Aguilar",
      "userId": "10539955484280245685"
     },
     "user_tz": 300
    },
    "id": "Fh2S3CmSHYkg",
    "outputId": "f864ddeb-6a73-464d-df8d-19eed444c713"
   },
   "outputs": [
    {
     "name": "stdout",
     "output_type": "stream",
     "text": [
      "Tiempo de ejecución(min): 0.0005664785703023274 Para filas: 2 Columnas: 320 Total de datos: 640\n"
     ]
    }
   ],
   "source": [
    "tab=\"CAT_MUNICIPIO\"\n",
    "lis=\"ID_MUNICIPIO,NOMBRE_MUNICIPIO\"\n",
    "df_CAT_MUNICIPIO=imp_sql(lis,tab)\n",
    "df_CAT_MUNICIPIO.to_csv('CAT_MUNICIPIO')"
   ]
  },
  {
   "cell_type": "code",
   "execution_count": null,
   "metadata": {
    "colab": {
     "base_uri": "https://localhost:8080/"
    },
    "executionInfo": {
     "elapsed": 254,
     "status": "ok",
     "timestamp": 1658766050143,
     "user": {
      "displayName": "Elías González Aguilar",
      "userId": "10539955484280245685"
     },
     "user_tz": 300
    },
    "id": "kJsj9zXHHYm-",
    "outputId": "ab82ac89-2777-4eb8-f68e-a147f5dab48d"
   },
   "outputs": [
    {
     "name": "stdout",
     "output_type": "stream",
     "text": [
      "Tiempo de ejecución(min): 0.003520858287811279 Para filas: 2 Columnas: 1649 Total de datos: 3298\n"
     ]
    }
   ],
   "source": [
    "tab=\"CAT_SECTOR\"\n",
    "lis=\"ID_SECTOR,CLAVE_SECTOR\"\n",
    "df_CAT_SECTOR=imp_sql(lis,tab)\n",
    "df_CAT_SECTOR.to_csv('CAT_SECTOR')"
   ]
  },
  {
   "cell_type": "code",
   "execution_count": null,
   "metadata": {
    "colab": {
     "base_uri": "https://localhost:8080/"
    },
    "executionInfo": {
     "elapsed": 36,
     "status": "ok",
     "timestamp": 1658766124845,
     "user": {
      "displayName": "Elías González Aguilar",
      "userId": "10539955484280245685"
     },
     "user_tz": 300
    },
    "id": "L00ygsbfHYp5",
    "outputId": "c4aed566-5148-4e92-9965-7884a8b1817a"
   },
   "outputs": [
    {
     "name": "stdout",
     "output_type": "stream",
     "text": [
      "Tiempo de ejecución(min): 0.00028258562088012695 Para filas: 2 Columnas: 44 Total de datos: 88\n"
     ]
    }
   ],
   "source": [
    "tab=\"CAT_SEXO\"\n",
    "lis=\"ID_SEXO,NOMBRE_SEXO\"\n",
    "df_CAT_SEXO=imp_sql(lis,tab)\n",
    "df_CAT_SEXO.to_csv('CAT_SEXO')"
   ]
  },
  {
   "cell_type": "code",
   "execution_count": null,
   "metadata": {
    "colab": {
     "base_uri": "https://localhost:8080/"
    },
    "executionInfo": {
     "elapsed": 40,
     "status": "ok",
     "timestamp": 1658766195093,
     "user": {
      "displayName": "Elías González Aguilar",
      "userId": "10539955484280245685"
     },
     "user_tz": 300
    },
    "id": "IdTiKnSgHYvI",
    "outputId": "a8ffbfaa-c77a-4555-9498-9fdc979de36a"
   },
   "outputs": [
    {
     "name": "stdout",
     "output_type": "stream",
     "text": [
      "Tiempo de ejecución(min): 0.00028253793716430663 Para filas: 2 Columnas: 16 Total de datos: 32\n"
     ]
    }
   ],
   "source": [
    "tab=\"CAT_TIPO_ARMA\"\n",
    "lis=\"ID_TIPO_ARMA,NOMBRE_TIPO\"\n",
    "df_CAT_TIPO_ARMA=imp_sql(lis,tab)\n",
    "df_CAT_TIPO_ARMA.to_csv('CAT_TIPO_ARMA')"
   ]
  },
  {
   "cell_type": "code",
   "execution_count": null,
   "metadata": {
    "colab": {
     "base_uri": "https://localhost:8080/"
    },
    "executionInfo": {
     "elapsed": 41,
     "status": "ok",
     "timestamp": 1658766333568,
     "user": {
      "displayName": "Elías González Aguilar",
      "userId": "10539955484280245685"
     },
     "user_tz": 300
    },
    "id": "iPIztxbriuuH",
    "outputId": "037d8885-0b57-4a79-bf09-fac1e6351bb1"
   },
   "outputs": [
    {
     "name": "stdout",
     "output_type": "stream",
     "text": [
      "Tiempo de ejecución(min): 0.00033243894577026365 Para filas: 2 Columnas: 26 Total de datos: 52\n"
     ]
    }
   ],
   "source": [
    "tab=\"CAT_TIPO_MOTIVO\"\n",
    "lis=\"ID_TIPO_MOTIVO,NOMBRE_TIPO_MOTIVO\"\n",
    "df_CAT_TIPO_MOTIVO=imp_sql(lis,tab)\n",
    "df_CAT_TIPO_MOTIVO.to_csv('CAT_TIPO_MOTIVO')"
   ]
  },
  {
   "cell_type": "code",
   "execution_count": null,
   "metadata": {
    "colab": {
     "base_uri": "https://localhost:8080/"
    },
    "executionInfo": {
     "elapsed": 54,
     "status": "ok",
     "timestamp": 1658766383567,
     "user": {
      "displayName": "Elías González Aguilar",
      "userId": "10539955484280245685"
     },
     "user_tz": 300
    },
    "id": "uV8puWpyK4gB",
    "outputId": "8e4274c8-a6d5-4703-d655-c3db6ee6afbe"
   },
   "outputs": [
    {
     "name": "stdout",
     "output_type": "stream",
     "text": [
      "Tiempo de ejecución(min): 0.00044939120610555016 Para filas: 2 Columnas: 8 Total de datos: 16\n"
     ]
    }
   ],
   "source": [
    "tab=\"CAT_TIPO_OBJETO\"\n",
    "lis=\"ID_TIPO_OBJETO,NOMBRE_TIPO\"\n",
    "df_CAT_TIPO_OBJETO=imp_sql(lis,tab)\n",
    "df_CAT_TIPO_OBJETO.to_csv('CAT_TIPO_OBJETO')"
   ]
  },
  {
   "cell_type": "code",
   "execution_count": null,
   "metadata": {
    "colab": {
     "base_uri": "https://localhost:8080/"
    },
    "executionInfo": {
     "elapsed": 50,
     "status": "ok",
     "timestamp": 1658766544906,
     "user": {
      "displayName": "Elías González Aguilar",
      "userId": "10539955484280245685"
     },
     "user_tz": 300
    },
    "id": "4pBNPaQiK4ik",
    "outputId": "e50f7e6d-2742-46aa-acc0-b04912a33aa2"
   },
   "outputs": [
    {
     "name": "stdout",
     "output_type": "stream",
     "text": [
      "Tiempo de ejecución(min): 0.0005672693252563477 Para filas: 2 Columnas: 223 Total de datos: 446\n"
     ]
    }
   ],
   "source": [
    "tab=\"CAT_TIPO_PERSONA_INV\"\n",
    "lis=\"ID_TIPO_PERSONA,NOMBRE_TIPO_PERSONA\"\n",
    "df_CAT_TIPO_PERSONA_INV=imp_sql(lis,tab)\n",
    "df_CAT_TIPO_PERSONA_INV.to_csv('CAT_TIPO_PERSONA_INV')"
   ]
  },
  {
   "cell_type": "code",
   "execution_count": null,
   "metadata": {
    "colab": {
     "base_uri": "https://localhost:8080/"
    },
    "executionInfo": {
     "elapsed": 42,
     "status": "ok",
     "timestamp": 1658766607305,
     "user": {
      "displayName": "Elías González Aguilar",
      "userId": "10539955484280245685"
     },
     "user_tz": 300
    },
    "id": "v5nygZ9dK4nv",
    "outputId": "6c506408-d45e-462b-b77b-c8554265bc80"
   },
   "outputs": [
    {
     "name": "stdout",
     "output_type": "stream",
     "text": [
      "Tiempo de ejecución(min): 0.0004986763000488281 Para filas: 2 Columnas: 25 Total de datos: 50\n"
     ]
    }
   ],
   "source": [
    "tab=\"CAT_TIPO_VEHICULO\"\n",
    "lis=\"ID_TIPO_VEHICULO,NOMBRE_TIPO\"\n",
    "df_CAT_TIPO_VEHICULO=imp_sql(lis,tab)\n",
    "df_CAT_TIPO_VEHICULO.to_csv('CAT_TIPO_VEHICULO')"
   ]
  },
  {
   "cell_type": "markdown",
   "metadata": {
    "id": "TBTtylHCMl3D"
   },
   "source": [
    "### Eventos"
   ]
  },
  {
   "cell_type": "code",
   "execution_count": null,
   "metadata": {
    "colab": {
     "base_uri": "https://localhost:8080/"
    },
    "executionInfo": {
     "elapsed": 2719,
     "status": "ok",
     "timestamp": 1658766742606,
     "user": {
      "displayName": "Elías González Aguilar",
      "userId": "10539955484280245685"
     },
     "user_tz": 300
    },
    "id": "cefftbimK4ts",
    "outputId": "33a9d26f-ba45-41c3-fc21-02cc3e8797ba"
   },
   "outputs": [
    {
     "name": "stdout",
     "output_type": "stream",
     "text": [
      "Tiempo de ejecución(min): 0.043029630184173585 Para filas: 1 Columnas: 39441 Total de datos: 39441\n"
     ]
    }
   ],
   "source": [
    "tab=\"CAMBIO_DIRECCION_EVENTO\"\n",
    "lis=\"ID_EVENTO\"\n",
    "df_CAMBIO_DIRECCION_EVENTO=imp_sql(lis,tab)\n",
    "df_CAMBIO_DIRECCION_EVENTO.to_csv('CAMBIO_DIRECCION_EVENTO')"
   ]
  },
  {
   "cell_type": "code",
   "execution_count": null,
   "metadata": {
    "colab": {
     "base_uri": "https://localhost:8080/"
    },
    "executionInfo": {
     "elapsed": 30125,
     "status": "ok",
     "timestamp": 1658766772748,
     "user": {
      "displayName": "Elías González Aguilar",
      "userId": "10539955484280245685"
     },
     "user_tz": 300
    },
    "id": "JBj3pc_-K4wj",
    "outputId": "f877c782-162e-43c9-f01c-bd0cd394c610"
   },
   "outputs": [
    {
     "name": "stdout",
     "output_type": "stream",
     "text": [
      "Tiempo de ejecución(min): 0.47601540088653566 Para filas: 3 Columnas: 358002 Total de datos: 1074006\n"
     ]
    }
   ],
   "source": [
    "tab=\"CAMBIO_MOTIVO_EVENTO\"\n",
    "lis=\"ID_EVENTO,ID_MOTIVO,ID_CAMBIO_MOTIVO_EVENTO\"\n",
    "df_CAMBIO_MOTIVO_EVENTO=imp_sql(lis,tab)\n",
    "df_CAMBIO_MOTIVO_EVENTO.to_csv('CAMBIO_MOTIVO_EVENTO')"
   ]
  },
  {
   "cell_type": "code",
   "execution_count": null,
   "metadata": {
    "colab": {
     "base_uri": "https://localhost:8080/"
    },
    "executionInfo": {
     "elapsed": 472,
     "status": "ok",
     "timestamp": 1658766849657,
     "user": {
      "displayName": "Elías González Aguilar",
      "userId": "10539955484280245685"
     },
     "user_tz": 300
    },
    "id": "wbvo1PFLK4zU",
    "outputId": "0c008287-dae6-4a26-b79b-7d034f599ecc"
   },
   "outputs": [
    {
     "name": "stdout",
     "output_type": "stream",
     "text": [
      "Tiempo de ejecución(min): 0.0068586786588033044 Para filas: 4 Columnas: 396 Total de datos: 1584\n"
     ]
    }
   ],
   "source": [
    "tab=\"DETENIDOS_DETALLE\"\n",
    "lis=\"ID_DETENIDO,NOMBRE,ID_SEXO,EDAD\"\n",
    "df_DETENIDOS_DETALLE=imp_sql(lis,tab)\n",
    "df_DETENIDOS_DETALLE.to_csv('DETENIDOS_DETALLE')"
   ]
  },
  {
   "cell_type": "code",
   "execution_count": null,
   "metadata": {
    "colab": {
     "base_uri": "https://localhost:8080/"
    },
    "executionInfo": {
     "elapsed": 198967,
     "status": "ok",
     "timestamp": 1658767131659,
     "user": {
      "displayName": "Elías González Aguilar",
      "userId": "10539955484280245685"
     },
     "user_tz": 300
    },
    "id": "0jY433hWK42Q",
    "outputId": "29687271-8050-42bc-9221-002fce7921ba"
   },
   "outputs": [
    {
     "name": "stdout",
     "output_type": "stream",
     "text": [
      "Tiempo de ejecución(min): 3.087024509906769 Para filas: 7 Columnas: 2064678 Total de datos: 14452746\n"
     ]
    }
   ],
   "source": [
    "tab=\"DIRECCION_EVENTO\"\n",
    "lis=\"ID_DIRECCION_EVENTO,ID_EVENTO,ID_COLONIA,ID_MUNICIPIO,LATITUD,LONGITUD,CODIGO_POSTAL\"\n",
    "df_DIRECCION_EVENTO=imp_sql(lis,tab)\n",
    "df_DIRECCION_EVENTO.to_csv('DIRECCION_EVENTO')"
   ]
  },
  {
   "cell_type": "code",
   "execution_count": null,
   "metadata": {
    "colab": {
     "base_uri": "https://localhost:8080/"
    },
    "executionInfo": {
     "elapsed": 270571,
     "status": "ok",
     "timestamp": 1658767528412,
     "user": {
      "displayName": "Elías González Aguilar",
      "userId": "10539955484280245685"
     },
     "user_tz": 300
    },
    "id": "x7sG1QulK45D",
    "outputId": "a46c8eb9-d772-4fc8-92ee-558337a1ae9b"
   },
   "outputs": [
    {
     "name": "stdout",
     "output_type": "stream",
     "text": [
      "Tiempo de ejecución(min): 4.389212739467621 Para filas: 5 Columnas: 2064682 Total de datos: 10323410\n"
     ]
    }
   ],
   "source": [
    "tab=\"EVENTO\"\n",
    "lis=\"ID_EVENTO,NUMERO_TELEFONO,FOLIO,ID_MOTIVO,PRIORIDAD\"\n",
    "df_EVENTO=imp_sql(lis,tab)\n",
    "df_EVENTO.to_csv('EVENTO')"
   ]
  },
  {
   "cell_type": "code",
   "execution_count": null,
   "metadata": {
    "colab": {
     "base_uri": "https://localhost:8080/"
    },
    "id": "aoyWjTr2Nz8-",
    "outputId": "10b471e4-9106-40f2-ea59-c2c30f7f588b"
   },
   "outputs": [
    {
     "name": "stdout",
     "output_type": "stream",
     "text": [
      "Tiempo de ejecución(min): 16.353425319989523 Para filas: 2 Columnas: 1703690 Total de datos: 3407380\n"
     ]
    }
   ],
   "source": [
    "tab=\"EVENTO_PARTE_INFORMATIVO\" #Tarda demasiado la carga de datos\n",
    "lis=\"ID_EVENTO,OBSERVACIONES_EVENTO_PI\"\n",
    "df_EVENTO_PARTE_INFORMATIVO=imp_sql(lis,tab)\n",
    "df_EVENTO_PARTE_INFORMATIVO.to_csv('EVENTO_PARTE_INFORMATIVO')"
   ]
  },
  {
   "cell_type": "code",
   "execution_count": null,
   "metadata": {
    "id": "wsAwEL9zN0Fl"
   },
   "outputs": [],
   "source": [
    "tab=\"MUERTOS_DETALLE\" \n",
    "lis=\"ID_MUERTO,QUIEN_IDENTIFICA,ID_SEXO,EDAD,NOMBRE\"\n",
    "df_MUERTOS_DETALLE=imp_sql(lis,tab)\n",
    "df_MUERTOS_DETALLE.to_csv('MUERTOS_DETALLE')"
   ]
  },
  {
   "cell_type": "code",
   "execution_count": null,
   "metadata": {
    "id": "4L3HyH-HN0Ie"
   },
   "outputs": [],
   "source": [
    "tab=\"OBJETO_INVOLUCRADO\"\n",
    "lis=\"ID_EVENTO,ID_OBJETO_INVOLUCRADO,OBSERVACIONES\"\n",
    "df_OBJETO_INVOLUCRADO=imp_sql(lis,tab)\n",
    "df_OBJETO_INVOLUCRADO.to_csv('OBJETO_INVOLUCRADO')"
   ]
  },
  {
   "cell_type": "code",
   "execution_count": null,
   "metadata": {
    "id": "xtZS48a8N0LF"
   },
   "outputs": [],
   "source": [
    "tab=\"PERSONA_INVOLUCRADA\"\n",
    "lis=\"ID_EVENTO,ID_PERSONA_INVOLUCRADA,NOMBRE,APELLIDO_PATERNO,APELLIDO_MATERNO,SEXO,EDAD,ID_PERSONA_ORIGEN\"\n",
    "df_OBJETO_INVOLUCRADO=imp_sql(lis,tab)\n",
    "df_OBJETO_INVOLUCRADO.to_csv('OBJETO_INVOLUCRADO')"
   ]
  },
  {
   "cell_type": "code",
   "execution_count": null,
   "metadata": {
    "id": "NL8OA4xjN0N5"
   },
   "outputs": [],
   "source": [
    "tab=\"VEHICULO_INVOLUCRADO\"\n",
    "lis=\"ID_EVENTO,ID_VEHICULO_INVOLUCRADO,NUMERO_PLACA,ID_MARCA,ID_COLOR,ID_TIPO_VEHICULO,ID_EVENTO:RECURRENTE,ID_USO_VEHICULO,ID_ESTADO_FISICO_VEHICULO\"\n",
    "df_VEHICULO_INVOLUCRADO=imp_sql(lis,tab)\n",
    "df_VEHICULO_INVOLUCRADO.to_csv('VEHICULO_INVOLUCRADO')"
   ]
  },
  {
   "cell_type": "code",
   "execution_count": null,
   "metadata": {
    "id": "8qjACG0NIYHy"
   },
   "outputs": [],
   "source": [
    "tab=\"ZP_EVENTO\"\n",
    "lis=\"ID_EVENTO,ID_ZP_EVENTO,ID_ZONA_PATRULLAJE\"\n",
    "df_ZP_EVENTO=imp_sql(lis,tab)\n",
    "df_ZP_EVENTO.to_csv('ZP_EVENTO')"
   ]
  },
  {
   "cell_type": "markdown",
   "metadata": {
    "id": "ptcAfTFjNrrN"
   },
   "source": [
    "#### metodo 1"
   ]
  },
  {
   "cell_type": "markdown",
   "metadata": {
    "id": "oKHT16qyNr0h"
   },
   "source": [
    "#### metodo 2\n",
    "Where"
   ]
  },
  {
   "cell_type": "code",
   "execution_count": null,
   "metadata": {
    "id": "VDJuVPXpmaOp"
   },
   "outputs": [],
   "source": []
  },
  {
   "cell_type": "markdown",
   "metadata": {
    "id": "zY3LV5TjM3NE"
   },
   "source": [
    "### Creación de df"
   ]
  },
  {
   "cell_type": "markdown",
   "metadata": {
    "id": "xIgd8faHNzQ-"
   },
   "source": [
    "### extras"
   ]
  },
  {
   "cell_type": "code",
   "execution_count": null,
   "metadata": {
    "id": "tX3GYKBGMuxt"
   },
   "outputs": [],
   "source": [
    "import cx_Oracle\n"
   ]
  },
  {
   "cell_type": "code",
   "execution_count": null,
   "metadata": {
    "id": "DJf0wEALNvh8"
   },
   "outputs": [],
   "source": [
    "lis=\"ID_EVENTO,ID_DESCRIPCION_EVENTO,DESCRIPCION\" #Puede que genere errores por la cantidad de str's \n",
    "tab=\"DESCRIPCION_EVENTO\"\n",
    "df_DESCRIPCION_EVENTO=imp_sql(lis,tab)\n",
    "df = pd.DataFrame()"
   ]
  },
  {
   "cell_type": "code",
   "execution_count": null,
   "metadata": {
    "id": "zwYVwHkKgA4p"
   },
   "outputs": [],
   "source": [
    "cx_Oracle.init_oracle_client(r\"C:\\Users\\Elías Gonzalez\\instantclient_21_6\")\n",
    "\n",
    "import platform\n",
    "\n",
    "# This is the path to the ORACLE client files\n",
    "lib_dir = r\"C:\\Users\\Elías Gonzalez\\instantclient_21_6\"\n",
    "\n",
    "# Diagnostic output to verify 64 bit arch and list files\n",
    "print(\"ARCH:\", platform.architecture())\n",
    "print(\"FILES AT lib_dir:\")\n",
    "for name in os.listdir(lib_dir):\n",
    "    print(name)"
   ]
  },
  {
   "cell_type": "code",
   "execution_count": null,
   "metadata": {
    "id": "4VLgK9lpgA_I"
   },
   "outputs": [],
   "source": [
    "cx_Oracle.clientversion() \n",
    "cx_Oracle.init_oracle_client()"
   ]
  },
  {
   "cell_type": "code",
   "execution_count": null,
   "metadata": {
    "id": "_xOZ0TBTgBEU"
   },
   "outputs": [],
   "source": []
  }
 ],
 "metadata": {
  "colab": {
   "authorship_tag": "ABX9TyN2MJGNRJDpiQrvI9UmTKcm",
   "collapsed_sections": [],
   "name": "BS-Conexión.ipynb",
   "provenance": []
  },
  "kernelspec": {
   "display_name": "Python 3",
   "language": "python",
   "name": "python3"
  },
  "language_info": {
   "codemirror_mode": {
    "name": "ipython",
    "version": 3
   },
   "file_extension": ".py",
   "mimetype": "text/x-python",
   "name": "python",
   "nbconvert_exporter": "python",
   "pygments_lexer": "ipython3",
   "version": "3.8.3"
  }
 },
 "nbformat": 4,
 "nbformat_minor": 1
}
